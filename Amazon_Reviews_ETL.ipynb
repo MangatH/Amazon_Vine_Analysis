{
  "cells": [
    {
      "cell_type": "code",
      "execution_count": 1,
      "metadata": {
        "colab": {
          "base_uri": "https://localhost:8080/",
          "height": 955
        },
        "id": "V58rxea0HqSa",
        "outputId": "0517fcd8-2f68-4cfd-a357-bcf77f56217f"
      },
      "outputs": [
        {
          "name": "stdout",
          "output_type": "stream",
          "text": [
            "\n",
            "WARNING: apt does not have a stable CLI interface. Use with caution in scripts.\n",
            "\n",
            "--2022-12-18 18:11:16--  https://www.apache.org/dist/spark/spark-3.3.1/spark-3.3.1-bin-hadoop3.tgz\n",
            "Resolving www.apache.org (www.apache.org)... 151.101.2.132, 2a04:4e42::644\n",
            "Connecting to www.apache.org (www.apache.org)|151.101.2.132|:443... connected.\n",
            "HTTP request sent, awaiting response... 302 Found\n",
            "Location: https://downloads.apache.org/spark/spark-3.3.1/spark-3.3.1-bin-hadoop3.tgz [following]\n",
            "--2022-12-18 18:11:17--  https://downloads.apache.org/spark/spark-3.3.1/spark-3.3.1-bin-hadoop3.tgz\n",
            "Resolving downloads.apache.org (downloads.apache.org)... 88.99.95.219, 135.181.214.104, 2a01:4f9:3a:2c57::2, ...\n",
            "Connecting to downloads.apache.org (downloads.apache.org)|88.99.95.219|:443... connected.\n",
            "HTTP request sent, awaiting response... 200 OK\n",
            "Length: 299350810 (285M) [application/x-gzip]\n",
            "Saving to: ‘spark-3.3.1-bin-hadoop3.tgz.1’\n",
            "\n",
            "spark-3.3.1-bin-had 100%[===================>] 285.48M  28.2MB/s    in 11s     \n",
            "\n",
            "2022-12-18 18:11:28 (26.4 MB/s) - ‘spark-3.3.1-bin-hadoop3.tgz.1’ saved [299350810/299350810]\n",
            "\n",
            "Looking in indexes: https://pypi.org/simple, https://us-python.pkg.dev/colab-wheels/public/simple/\n",
            "Requirement already satisfied: findspark in /usr/local/lib/python3.8/dist-packages (2.0.1)\n",
            "--2022-12-18 18:11:40--  https://jdbc.postgresql.org/download/postgresql-42.5.1.jar\n",
            "Resolving jdbc.postgresql.org (jdbc.postgresql.org)... 72.32.157.228, 2001:4800:3e1:1::228\n",
            "Connecting to jdbc.postgresql.org (jdbc.postgresql.org)|72.32.157.228|:443... connected.\n",
            "HTTP request sent, awaiting response... 200 OK\n",
            "Length: 1046770 (1022K) [application/java-archive]\n",
            "Saving to: ‘postgresql-42.5.1.jar.2’\n",
            "\n",
            "postgresql-42.5.1.j 100%[===================>]   1022K  6.59MB/s    in 0.2s    \n",
            "\n",
            "2022-12-18 18:11:41 (6.59 MB/s) - ‘postgresql-42.5.1.jar.2’ saved [1046770/1046770]\n",
            "\n",
            "Looking in indexes: https://pypi.org/simple, https://us-python.pkg.dev/colab-wheels/public/simple/\n",
            "Requirement already satisfied: boto3 in /usr/local/lib/python3.8/dist-packages (1.26.32)\n",
            "Requirement already satisfied: botocore<1.30.0,>=1.29.32 in /usr/local/lib/python3.8/dist-packages (from boto3) (1.29.32)\n",
            "Requirement already satisfied: jmespath<2.0.0,>=0.7.1 in /usr/local/lib/python3.8/dist-packages (from boto3) (1.0.1)\n",
            "Requirement already satisfied: s3transfer<0.7.0,>=0.6.0 in /usr/local/lib/python3.8/dist-packages (from boto3) (0.6.0)\n",
            "Requirement already satisfied: urllib3<1.27,>=1.25.4 in /usr/local/lib/python3.8/dist-packages (from botocore<1.30.0,>=1.29.32->boto3) (1.26.13)\n",
            "Requirement already satisfied: python-dateutil<3.0.0,>=2.1 in /usr/local/lib/python3.8/dist-packages (from botocore<1.30.0,>=1.29.32->boto3) (2.8.2)\n",
            "Requirement already satisfied: six>=1.5 in /usr/local/lib/python3.8/dist-packages (from python-dateutil<3.0.0,>=2.1->botocore<1.30.0,>=1.29.32->boto3) (1.15.0)\n"
          ]
        },
        {
          "data": {
            "text/html": [
              "\n",
              "            <div>\n",
              "                <p><b>SparkSession - in-memory</b></p>\n",
              "                \n",
              "        <div>\n",
              "            <p><b>SparkContext</b></p>\n",
              "\n",
              "            <p><a href=\"http://fb66d8bbf12a:4040\">Spark UI</a></p>\n",
              "\n",
              "            <dl>\n",
              "              <dt>Version</dt>\n",
              "                <dd><code>v3.3.1</code></dd>\n",
              "              <dt>Master</dt>\n",
              "                <dd><code>local[*]</code></dd>\n",
              "              <dt>AppName</dt>\n",
              "                <dd><code>M17-Amazon-Challenge</code></dd>\n",
              "            </dl>\n",
              "        </div>\n",
              "        \n",
              "            </div>\n",
              "        "
            ],
            "text/plain": [
              "<pyspark.sql.session.SparkSession at 0x7f9963741f70>"
            ]
          },
          "execution_count": 1,
          "metadata": {},
          "output_type": "execute_result"
        }
      ],
      "source": [
        "import os\n",
        "\n",
        "# Find the latest versions of\n",
        "#   Spark & Hadoop:  https://spark.apache.org/downloads.html (https://www.apache.org/dist/spark/)\n",
        "#   Postgres driver: https://jdbc.postgresql.org/\n",
        "os.environ['HADOOP_VERSION']   = hadoop_version   = 'hadoop3'\n",
        "os.environ['SPARK_VERSION']    = spark_version    = 'spark-3.3.1'\n",
        "os.environ['POSTGRES_VERSION'] = postgres_version = 'postgresql-42.5.1'\n",
        "\n",
        "# Install Java\n",
        "! apt install openjdk-11-jdk-headless > /dev/null\n",
        "os.environ['JAVA_HOME']  = '/usr/lib/jvm/java-11-openjdk-amd64'\n",
        "\n",
        "# Install Spark\n",
        "! wget https://www.apache.org/dist/spark/$SPARK_VERSION/$SPARK_VERSION-bin-$HADOOP_VERSION.tgz\n",
        "! tar xf $SPARK_VERSION-bin-$HADOOP_VERSION.tgz\n",
        "os.environ['SPARK_HOME'] = f'/content/{spark_version}-bin-{hadoop_version}'\n",
        "! pip install findspark\n",
        "\n",
        "# Install Postgres driver\n",
        "! wget https://jdbc.postgresql.org/download/$POSTGRES_VERSION.jar\n",
        "\n",
        "# Install AWS's Boto3\n",
        "! pip install boto3\n",
        "\n",
        "import boto3\n",
        "import findspark\n",
        "findspark.init()\n",
        "from   getpass     import getpass\n",
        "from   pyspark.sql import SparkSession\n",
        "\n",
        "spark = SparkSession.builder \\\n",
        "  .appName('M17-Amazon-Challenge') \\\n",
        "  .config('spark.driver.extraClassPath', f'/content/{postgres_version}.jar') \\\n",
        "  .getOrCreate()\n",
        "spark"
      ]
    },
    {
      "cell_type": "markdown",
      "metadata": {
        "id": "cyBsySGuY-9V"
      },
      "source": [
        "### Load Amazon Data into Spark DataFrame"
      ]
    },
    {
      "cell_type": "code",
      "execution_count": 2,
      "metadata": {
        "colab": {
          "base_uri": "https://localhost:8080/"
        },
        "id": "CtCmBhQJY-9Z",
        "outputId": "004bade2-7df8-49fe-b9a2-a35138f2f4c9"
      },
      "outputs": [
        {
          "name": "stdout",
          "output_type": "stream",
          "text": [
            "+-----------+-----------+--------------+----------+--------------+--------------------+----------------+-----------+-------------+-----------+----+-----------------+--------------------+--------------------+-------------------+\n",
            "|marketplace|customer_id|     review_id|product_id|product_parent|       product_title|product_category|star_rating|helpful_votes|total_votes|vine|verified_purchase|     review_headline|         review_body|        review_date|\n",
            "+-----------+-----------+--------------+----------+--------------+--------------------+----------------+-----------+-------------+-----------+----+-----------------+--------------------+--------------------+-------------------+\n",
            "|         US|    9970739| R8EWA1OFT84NX|B00GSP5D94|     329991347|Summer Infant Swa...|            Baby|          5|            0|          0|   N|                Y|Great swaddled bl...|Loved these swadd...|2015-08-31 00:00:00|\n",
            "|         US|   23538442|R2JWY4YRQD4FOP|B00YYDDZGU|     646108902|Pacifier Clip Gir...|            Baby|          5|            0|          0|   N|                N|Too cute and real...|These are adorabl...|2015-08-31 00:00:00|\n",
            "|         US|    8273344| RL5ESX231LZ0B|B00BUBNZC8|     642922361|Udder Covers - Br...|            Baby|          5|            0|          0|   N|                Y|          Five Stars|          Great gift|2015-08-31 00:00:00|\n",
            "|         US|   24557753| RRMS9ZWJ2KD08|B00AWLZFTS|     494272733|Gerber Graduates ...|            Baby|          5|            0|          0|   N|                Y|Cute; wash up nic...|These forks are g...|2015-08-31 00:00:00|\n",
            "|         US|   46263340|R14I3ZG5E6S7YM|B00KM60D3Q|     305813185|Summer Infant Ult...|            Baby|          5|            0|          0|   N|                Y|            Love it!|I wanted somethin...|2015-08-31 00:00:00|\n",
            "|         US|   24557753|R13EPSFP5DODN5|B00PQMRZG4|     607341708|Summer Infant Kee...|            Baby|          4|            0|          0|   N|                Y|        Rips easily.|Loved with daught...|2015-08-31 00:00:00|\n",
            "|         US|   33520065| R6RBP4HTE67SY|B005DL5970|     971881542|Natural HE Powder...|            Baby|          5|            0|          0|   N|                Y|Cloth Diaper Dete...|This is a great d...|2015-08-31 00:00:00|\n",
            "|         US|   20241560|R15B3EU40RSU2W|B00C6D2WL4|      93827401|Dr. Brown's Bottl...|            Baby|          5|            0|          0|   N|                Y|          Five Stars|                good|2015-08-31 00:00:00|\n",
            "|         US|    9987983| RP4DD53A4ZJA2|B0083973FK|     958629336|Sposie Booster Pa...|            Baby|          5|            0|          0|   N|                Y|          Five Stars|With these my mil...|2015-08-31 00:00:00|\n",
            "|         US|   52570308|R2C99DJEO4RZ4K|B00RLYG2S2|     147324304|Abiie Beyond Wood...|            Baby|          5|            3|          4|   N|                Y|So far I love thi...|So far I love thi...|2015-08-31 00:00:00|\n",
            "|         US|    9287389| REV51EW323H8W|B010UX9T5I|     446691106|Lovinglove Baby G...|            Baby|          5|            0|          0|   N|                Y|          Five Stars|           Love them|2015-08-31 00:00:00|\n",
            "|         US|   32840762|R2GQ3W03WIUZKE|B00VWBY7SC|     271204734|Bugzi Stroller Ho...|            Baby|          5|            0|          0|   N|                Y|Love these hooks ...|Love these hooks ...|2015-08-31 00:00:00|\n",
            "|         US|    7797182| RTI1YI7K6GE3D|B006ZBPH24|      67911244|Born Free 5 oz. B...|            Baby|          5|            0|          0|   N|                Y|          Five Stars|           very good|2015-08-31 00:00:00|\n",
            "|         US|   14788115|R3V9C2C0SPSZU6|B00UGV8BEU|     613360092|Baby Bandana Bibs...|            Baby|          5|            0|          0|   N|                Y|            Perfect!|Love these bibs! ...|2015-08-31 00:00:00|\n",
            "|         US|   37909065|R1LB42XCSSCLV6|B005BIOOYO|     527977399|Flip Stay-Dry Ins...|            Baby|          5|            0|          0|   N|                Y|best inserts for ...|I love these. The...|2015-08-31 00:00:00|\n",
            "|         US|   15935520|R113NWCW6STTMC|B0071D1AKI|     634188771|Aqueduck The ORIG...|            Baby|          5|            0|          0|   N|                Y|        Very Helpful|This worked exact...|2015-08-31 00:00:00|\n",
            "|         US|   16308044| RWRN5XK337N41|B00M2F0OYS|     166133791|Motorola Baby Mon...|            Baby|          1|            0|          0|   N|                N|Very Dissapointed...|I am so disappoin...|2015-08-31 00:00:00|\n",
            "|         US|    8168178| RF4WL3QEP3PVI|B00QCBD5AS|     294351494|Minnie Mouse Delu...|            Baby|          1|            0|          0|   N|                Y|            One Star|Ordered minnie mo...|2015-08-31 00:00:00|\n",
            "|         US|   23299101|R2DRL5NRODVQ3Z|B00SN6F9NG|       3470998|Rhoost Nail Clipp...|            Baby|          5|            2|          2|   N|                Y|If fits so comfor...|This is an absolu...|2015-08-31 00:00:00|\n",
            "|         US|   14261025|R3T9B92MDDHKMM|B00J0YTS1E|     488640919|My Natural Owl Mu...|            Baby|          2|            5|          5|   N|                Y|Used to be great....|They changed the ...|2015-08-31 00:00:00|\n",
            "+-----------+-----------+--------------+----------+--------------+--------------------+----------------+-----------+-------------+-----------+----+-----------------+--------------------+--------------------+-------------------+\n",
            "only showing top 20 rows\n",
            "\n"
          ]
        }
      ],
      "source": [
        "from pyspark import SparkFiles\n",
        "url = \"https://temp-haerman-dec-15.s3.ap-northeast-1.amazonaws.com/amazon_reviews_us_Baby_v1_00.tsv\"\n",
        "spark.sparkContext.addFile(url)\n",
        "df = spark.read.option(\"encoding\", \"UTF-8\").csv(SparkFiles.get(\"amazon_reviews_us_Baby_v1_00.tsv\"), sep=\"\\t\", header=True, inferSchema=True)\n",
        "df.show()"
      ]
    },
    {
      "cell_type": "code",
      "execution_count": 3,
      "metadata": {
        "colab": {
          "base_uri": "https://localhost:8080/"
        },
        "id": "Cho6VdwdhIcU",
        "outputId": "2f2a5ed1-3c5b-4ad6-a79f-eea831516fc5"
      },
      "outputs": [
        {
          "name": "stdout",
          "output_type": "stream",
          "text": [
            "1752932\n",
            "1752727\n",
            "1752727\n"
          ]
        }
      ],
      "source": [
        "# Drop duplicates and incomplete rows\n",
        "print(df.count())\n",
        "df = df.dropna()\n",
        "print(df.count())\n",
        "df = df.dropDuplicates()\n",
        "print(df.count())"
      ]
    },
    {
      "cell_type": "code",
      "execution_count": 4,
      "metadata": {
        "colab": {
          "base_uri": "https://localhost:8080/"
        },
        "id": "RgBkHP_EiUBd",
        "outputId": "1df76330-91b5-4306-ee62-25d2dd6aa42e"
      },
      "outputs": [
        {
          "name": "stdout",
          "output_type": "stream",
          "text": [
            "root\n",
            " |-- marketplace: string (nullable = true)\n",
            " |-- customer_id: integer (nullable = true)\n",
            " |-- review_id: string (nullable = true)\n",
            " |-- product_id: string (nullable = true)\n",
            " |-- product_parent: integer (nullable = true)\n",
            " |-- product_title: string (nullable = true)\n",
            " |-- product_category: string (nullable = true)\n",
            " |-- star_rating: integer (nullable = true)\n",
            " |-- helpful_votes: integer (nullable = true)\n",
            " |-- total_votes: integer (nullable = true)\n",
            " |-- vine: string (nullable = true)\n",
            " |-- verified_purchase: string (nullable = true)\n",
            " |-- review_headline: string (nullable = true)\n",
            " |-- review_body: string (nullable = true)\n",
            " |-- review_date: timestamp (nullable = true)\n",
            "\n"
          ]
        }
      ],
      "source": [
        "df.printSchema()"
      ]
    },
    {
      "cell_type": "markdown",
      "metadata": {
        "id": "2yUSe55VY-9t"
      },
      "source": [
        "### Create DataFrames to match tables"
      ]
    },
    {
      "cell_type": "code",
      "execution_count": 5,
      "metadata": {
        "colab": {
          "base_uri": "https://localhost:8080/"
        },
        "id": "C8REmY1aY-9u",
        "outputId": "0880b7ef-0c80-43e2-c07c-b99f9c838863"
      },
      "outputs": [
        {
          "name": "stdout",
          "output_type": "stream",
          "text": [
            "+-----------+----------+--------------------+--------------+--------------+-------------------+-----------+-------------+-----------+----+-----------------+\n",
            "|customer_id|product_id|       product_title|     review_id|product_parent|        review_date|star_rating|helpful_votes|total_votes|vine|verified_purchase|\n",
            "+-----------+----------+--------------------+--------------+--------------+-------------------+-----------+-------------+-----------+----+-----------------+\n",
            "|   45651772|B00I39194Q|Whimsical Alphabe...| RYUQ18NWF4XAS|     182134733|2015-08-31 00:00:00|          5|            0|          0|   N|                Y|\n",
            "|   39031684|B00JU949AE|Baby Einstein Act...|R147C9YMU55OPJ|      79050378|2015-08-31 00:00:00|          4|            0|          0|   N|                Y|\n",
            "|    6829510|B0116UHU50|LOVE MY - 100% Pr...|R22E3HPL3OVOYU|      23805879|2015-08-31 00:00:00|          1|            0|          0|   N|                Y|\n",
            "|   41429833|B00AQYZCXK|BubbleBum Travel ...|R2TTMSR2QGW7RQ|      77521874|2015-08-31 00:00:00|          4|            1|          1|   N|                Y|\n",
            "|     902287|B00RGFIYSC|Baby Proofing Cor...|R1OK3IRLYYW2O5|      76959588|2015-08-31 00:00:00|          5|            0|          0|   N|                Y|\n",
            "|   12612039|B000U5LXSS|North States 3-in...|R15DDV0SR7BN3M|     810367090|2015-08-31 00:00:00|          5|            0|          0|   N|                Y|\n",
            "|    5237138|B004HKIIFS|  The Safe Sippy Cup|R3HEYGFQIWWQZT|     116994869|2015-08-31 00:00:00|          1|            0|          0|   N|                Y|\n",
            "|   24755112|B000XPB6UU|Redmon Bongo Buckets|R3KCZP5ZHHHQ32|     235663202|2015-08-31 00:00:00|          5|            0|          0|   N|                Y|\n",
            "|    5006626|B006SFUD4E|Munchkin SpongeBo...|R2ITPE0FXNH1R0|     491843093|2015-08-31 00:00:00|          5|            0|          0|   N|                Y|\n",
            "|   38901787|B00DYOQLNO|MAM Anti-Colic Bo...| RJWQE3MMHHA6R|     357525815|2015-08-31 00:00:00|          4|            0|          0|   Y|                N|\n",
            "|   16229505|B00DJPK8MS|Infantino Pat and...|R3O80QVLMMQ86X|     292396087|2015-08-31 00:00:00|          3|            0|          0|   N|                Y|\n",
            "|   12625899|B00PHQCUA0|Super Undies Hybr...| RRE7SRK9FUSD0|     281420532|2015-08-31 00:00:00|          3|            0|          0|   N|                Y|\n",
            "|   19367667|B00NJQBBSW|Minds In Sync Del...|R3257KZI4E4480|     640899513|2015-08-30 00:00:00|          5|            0|          0|   N|                Y|\n",
            "|   52478460|B00DJPK8PA|Infantino Texture...|R1G19WRCPHX7JM|     221497037|2015-08-30 00:00:00|          5|            0|          0|   N|                Y|\n",
            "|   10130358|B008411E0C|Safety 1st Finger...| RZFMU56KKE0C3|     537649608|2015-08-30 00:00:00|          5|            0|          0|   N|                Y|\n",
            "|   20200326|B00GSX1XEU|Bright Starts Wal...|R2DADHQLPXNCF5|     522985813|2015-08-30 00:00:00|          5|            0|          0|   N|                Y|\n",
            "|   41680137|B00PV6H3Z8|Safety Baby Magne...|R2F2V0HS3AMNKG|     292582241|2015-08-30 00:00:00|          5|            0|          0|   N|                N|\n",
            "|   12948010|B00F9Q3FNY|NUK Advanced Orth...|R1ZJW057DDKT12|     274639112|2015-08-29 00:00:00|          5|            0|          0|   N|                Y|\n",
            "|   40944915|B00KSTFLKW|Large Animal Gall...|R13CQSSXHFX80X|     449751146|2015-08-29 00:00:00|          1|            0|          0|   N|                Y|\n",
            "|   37039571|B008BJ79XS|Ubbi Plastic Bags...|R11PQHD8H89JMB|     382159271|2015-08-29 00:00:00|          5|            0|          0|   N|                Y|\n",
            "+-----------+----------+--------------------+--------------+--------------+-------------------+-----------+-------------+-----------+----+-----------------+\n",
            "only showing top 20 rows\n",
            "\n"
          ]
        }
      ],
      "source": [
        "from pyspark.sql.functions import col,to_date\n",
        "# Read in the Review dataset as a DataFrame\n",
        "review_df = df.select(['customer_id','product_id','product_title','review_id','product_parent','review_date','star_rating','helpful_votes','total_votes','vine','verified_purchase'])\n",
        "review_df.show()"
      ]
    },
    {
      "cell_type": "code",
      "execution_count": 6,
      "metadata": {
        "colab": {
          "base_uri": "https://localhost:8080/"
        },
        "id": "B0TESUDRY-90",
        "outputId": "d6cdb8f0-caa7-4094-f6f0-e6c04ed7a18e"
      },
      "outputs": [
        {
          "name": "stdout",
          "output_type": "stream",
          "text": [
            "+-----------+--------------+\n",
            "|customer_id|customer_count|\n",
            "+-----------+--------------+\n",
            "|   15450825|             3|\n",
            "|   16014891|             1|\n",
            "|     544564|             4|\n",
            "|   52620152|             3|\n",
            "|   18663556|             1|\n",
            "|   11875435|             2|\n",
            "|   14066928|             6|\n",
            "|   22762916|             9|\n",
            "|   26900509|             2|\n",
            "|   22412167|            13|\n",
            "|   48407518|             1|\n",
            "|   40969364|             1|\n",
            "|   51544976|            14|\n",
            "|   39008558|             1|\n",
            "|   14692917|             1|\n",
            "|   48909019|             1|\n",
            "|   13744004|             2|\n",
            "|   18971789|             2|\n",
            "|    3273846|             1|\n",
            "|   48693125|             2|\n",
            "+-----------+--------------+\n",
            "only showing top 20 rows\n",
            "\n"
          ]
        }
      ],
      "source": [
        "# Create the customers_table DataFrame\n",
        "customers_df = review_df.groupby('customer_id').agg({'customer_id':'count'}).withColumnRenamed('count(customer_id)', 'customer_count')\n",
        "customers_df.show()\n"
      ]
    },
    {
      "cell_type": "code",
      "execution_count": 7,
      "metadata": {
        "colab": {
          "base_uri": "https://localhost:8080/"
        },
        "id": "4FwXA6UvY-96",
        "outputId": "bfa4b7d0-a6ba-4e4d-f4aa-f761ef9e3afa"
      },
      "outputs": [
        {
          "name": "stdout",
          "output_type": "stream",
          "text": [
            "+----------+--------------------+\n",
            "|product_id|       product_title|\n",
            "+----------+--------------------+\n",
            "|B00Y8QMQN6|Best Baby Teether...|\n",
            "|B002WN2BY6|The First Years T...|\n",
            "|B000AV7O4O|Boon Frog Pod Bat...|\n",
            "|B00UFOBDNY|Kinsa Smart Stick...|\n",
            "|B00XF7DZ34|Critter Piller Ki...|\n",
            "|B00WKIR22E|Poly Comfortable ...|\n",
            "|B001EU35BQ|Peg Perego Tatami...|\n",
            "|B001TWI81G|Thermos Reusable ...|\n",
            "|B007EJ7J4U|Kaloo Doudou Beig...|\n",
            "|B00M8MGGQA|Large Baby Bag Or...|\n",
            "|B00Y2CJWKQ|Clinical Digital ...|\n",
            "|B00Y8ION80|★ Baby Pacifier &...|\n",
            "|B00UJOWZ96|Corner Cushion Ba...|\n",
            "|B00DZ3K64Y|Sassy Soft Grip N...|\n",
            "|B00JBYPKE2|Maxi Cosi Pria 85...|\n",
            "|B00HK6GWTU|Ju-Ju-Be Be Light...|\n",
            "|B00IYU4O8W|   Lamaze Cloth Book|\n",
            "|B00SCDM4FQ|Olababy Silicone ...|\n",
            "|B004UOTWJ2|Charlie Banana - ...|\n",
            "|B001LF3YQK|Skip Hop Baby Swi...|\n",
            "+----------+--------------------+\n",
            "only showing top 20 rows\n",
            "\n"
          ]
        }
      ],
      "source": [
        "# Create the products_table DataFrame and drop duplicates. \n",
        "products_df = review_df.select(['product_id','product_title']).drop_duplicates()\n",
        "products_df.show()"
      ]
    },
    {
      "cell_type": "code",
      "execution_count": 8,
      "metadata": {
        "colab": {
          "base_uri": "https://localhost:8080/"
        },
        "id": "MkqyCuNQY-9-",
        "outputId": "ea0312c7-7041-4b6e-f45b-4b45c5cfa2c2"
      },
      "outputs": [
        {
          "name": "stdout",
          "output_type": "stream",
          "text": [
            "+--------------+-----------+----------+--------------+-----------+\n",
            "|     review_id|customer_id|product_id|product_parent|review_date|\n",
            "+--------------+-----------+----------+--------------+-----------+\n",
            "| RYUQ18NWF4XAS|   45651772|B00I39194Q|     182134733| 2015-08-31|\n",
            "|R147C9YMU55OPJ|   39031684|B00JU949AE|      79050378| 2015-08-31|\n",
            "|R22E3HPL3OVOYU|    6829510|B0116UHU50|      23805879| 2015-08-31|\n",
            "|R2TTMSR2QGW7RQ|   41429833|B00AQYZCXK|      77521874| 2015-08-31|\n",
            "|R1OK3IRLYYW2O5|     902287|B00RGFIYSC|      76959588| 2015-08-31|\n",
            "|R15DDV0SR7BN3M|   12612039|B000U5LXSS|     810367090| 2015-08-31|\n",
            "|R3HEYGFQIWWQZT|    5237138|B004HKIIFS|     116994869| 2015-08-31|\n",
            "|R3KCZP5ZHHHQ32|   24755112|B000XPB6UU|     235663202| 2015-08-31|\n",
            "|R2ITPE0FXNH1R0|    5006626|B006SFUD4E|     491843093| 2015-08-31|\n",
            "| RJWQE3MMHHA6R|   38901787|B00DYOQLNO|     357525815| 2015-08-31|\n",
            "|R3O80QVLMMQ86X|   16229505|B00DJPK8MS|     292396087| 2015-08-31|\n",
            "| RRE7SRK9FUSD0|   12625899|B00PHQCUA0|     281420532| 2015-08-31|\n",
            "|R3257KZI4E4480|   19367667|B00NJQBBSW|     640899513| 2015-08-30|\n",
            "|R1G19WRCPHX7JM|   52478460|B00DJPK8PA|     221497037| 2015-08-30|\n",
            "| RZFMU56KKE0C3|   10130358|B008411E0C|     537649608| 2015-08-30|\n",
            "|R2DADHQLPXNCF5|   20200326|B00GSX1XEU|     522985813| 2015-08-30|\n",
            "|R2F2V0HS3AMNKG|   41680137|B00PV6H3Z8|     292582241| 2015-08-30|\n",
            "|R1ZJW057DDKT12|   12948010|B00F9Q3FNY|     274639112| 2015-08-29|\n",
            "|R13CQSSXHFX80X|   40944915|B00KSTFLKW|     449751146| 2015-08-29|\n",
            "|R11PQHD8H89JMB|   37039571|B008BJ79XS|     382159271| 2015-08-29|\n",
            "+--------------+-----------+----------+--------------+-----------+\n",
            "only showing top 20 rows\n",
            "\n"
          ]
        }
      ],
      "source": [
        "# Create the review_id_table DataFrame. \n",
        "# Convert the 'review_date' column to a date datatype with to_date(\"review_date\", 'yyyy-MM-dd').alias(\"review_date\")\n",
        "review_id_df = review_df.select(['review_id','customer_id','product_id','product_parent', to_date(\"review_date\", 'yyyy-MM-dd').alias(\"review_date\")])\n",
        "review_id_df.show()"
      ]
    },
    {
      "cell_type": "code",
      "execution_count": 9,
      "metadata": {
        "colab": {
          "base_uri": "https://localhost:8080/"
        },
        "id": "lzMmkdKmY--D",
        "outputId": "434ed25f-24f5-41a9-f3b9-a13402446b58"
      },
      "outputs": [
        {
          "name": "stdout",
          "output_type": "stream",
          "text": [
            "+--------------+-----------+-------------+-----------+----+-----------------+\n",
            "|     review_id|star_rating|helpful_votes|total_votes|vine|verified_purchase|\n",
            "+--------------+-----------+-------------+-----------+----+-----------------+\n",
            "| RYUQ18NWF4XAS|          5|            0|          0|   N|                Y|\n",
            "|R147C9YMU55OPJ|          4|            0|          0|   N|                Y|\n",
            "|R22E3HPL3OVOYU|          1|            0|          0|   N|                Y|\n",
            "|R2TTMSR2QGW7RQ|          4|            1|          1|   N|                Y|\n",
            "|R1OK3IRLYYW2O5|          5|            0|          0|   N|                Y|\n",
            "|R15DDV0SR7BN3M|          5|            0|          0|   N|                Y|\n",
            "|R3HEYGFQIWWQZT|          1|            0|          0|   N|                Y|\n",
            "|R3KCZP5ZHHHQ32|          5|            0|          0|   N|                Y|\n",
            "|R2ITPE0FXNH1R0|          5|            0|          0|   N|                Y|\n",
            "| RJWQE3MMHHA6R|          4|            0|          0|   Y|                N|\n",
            "|R3O80QVLMMQ86X|          3|            0|          0|   N|                Y|\n",
            "| RRE7SRK9FUSD0|          3|            0|          0|   N|                Y|\n",
            "|R3257KZI4E4480|          5|            0|          0|   N|                Y|\n",
            "|R1G19WRCPHX7JM|          5|            0|          0|   N|                Y|\n",
            "| RZFMU56KKE0C3|          5|            0|          0|   N|                Y|\n",
            "|R2DADHQLPXNCF5|          5|            0|          0|   N|                Y|\n",
            "|R2F2V0HS3AMNKG|          5|            0|          0|   N|                N|\n",
            "|R1ZJW057DDKT12|          5|            0|          0|   N|                Y|\n",
            "|R13CQSSXHFX80X|          1|            0|          0|   N|                Y|\n",
            "|R11PQHD8H89JMB|          5|            0|          0|   N|                Y|\n",
            "+--------------+-----------+-------------+-----------+----+-----------------+\n",
            "only showing top 20 rows\n",
            "\n"
          ]
        }
      ],
      "source": [
        "# Create the vine_table. DataFrame\n",
        "vine_df = df.select(['review_id','star_rating','helpful_votes','total_votes','vine','verified_purchase'])\n",
        "vine_df.show()"
      ]
    },
    {
      "cell_type": "markdown",
      "metadata": {
        "id": "jITZhLkmY--J"
      },
      "source": [
        "### Connect to the AWS RDS instance and write each DataFrame to its table. "
      ]
    },
    {
      "cell_type": "code",
      "execution_count": 10,
      "metadata": {
        "id": "7jiUvs1aY--L"
      },
      "outputs": [],
      "source": [
        "# Configure settings for RDS\n",
        "mode = \"append\"\n",
        "jdbc_url=\"jdbc:postgresql://database-1.cu1mghc9ghoy.ap-northeast-1.rds.amazonaws.com/reviews_db\"\n",
        "config = {\"user\":\"postgres\", \n",
        "          \"password\": \" \", \n",
        "          \"driver\":\"org.postgresql.Driver\"}\n"
      ]
    },
    {
      "cell_type": "code",
      "execution_count": 11,
      "metadata": {
        "id": "T2zgZ-aKY--Q"
      },
      "outputs": [],
      "source": [
        "# Write review_id_df to table in RDS\n",
        "review_id_df.write.jdbc(url=jdbc_url, table='review_id_table', mode=mode, properties=config)"
      ]
    },
    {
      "cell_type": "code",
      "execution_count": 14,
      "metadata": {
        "id": "1m3yzn-LY--U"
      },
      "outputs": [],
      "source": [
        "# Write products_df to table in RDS\n",
        "# about 3 min\n",
        "products_df.write.jdbc(url=jdbc_url, table='products_table', mode=mode, properties=config)"
      ]
    },
    {
      "cell_type": "code",
      "execution_count": 15,
      "metadata": {
        "id": "KbXri15fY--Z"
      },
      "outputs": [],
      "source": [
        "# Write customers_df to table in RDS\n",
        "# 5 min 14 s\n",
        "customers_df.write.jdbc(url=jdbc_url, table='customers_table', mode=mode, properties=config)"
      ]
    },
    {
      "cell_type": "code",
      "execution_count": 16,
      "metadata": {
        "id": "XdQknSHLY--e"
      },
      "outputs": [],
      "source": [
        "# Write vine_df to table in RDS\n",
        "# 11 minutes\n",
        "vine_df.write.jdbc(url=jdbc_url, table='vine_table', mode=mode, properties=config)"
      ]
    },
    {
      "cell_type": "code",
      "execution_count": null,
      "metadata": {
        "id": "Exuo6ebUsCqW"
      },
      "outputs": [],
      "source": []
    }
  ],
  "metadata": {
    "colab": {
      "provenance": []
    },
    "kernelspec": {
      "display_name": "Python 3 (ipykernel)",
      "language": "python",
      "name": "python3"
    },
    "language_info": {
      "codemirror_mode": {
        "name": "ipython",
        "version": 3
      },
      "file_extension": ".py",
      "mimetype": "text/x-python",
      "name": "python",
      "nbconvert_exporter": "python",
      "pygments_lexer": "ipython3",
      "version": "3.8.13"
    },
    "nteract": {
      "version": "0.12.3"
    }
  },
  "nbformat": 4,
  "nbformat_minor": 0
}
